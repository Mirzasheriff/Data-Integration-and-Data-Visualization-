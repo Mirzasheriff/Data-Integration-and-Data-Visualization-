{
 "cells": [
  {
   "cell_type": "code",
   "execution_count": 0,
   "metadata": {
    "application/vnd.databricks.v1+cell": {
     "cellMetadata": {
      "byteLimit": 2048000,
      "rowLimit": 10000
     },
     "inputWidgets": {},
     "nuid": "5e0b5ee1-e630-4f42-bb77-e78253d1e4c9",
     "showTitle": false,
     "tableResultSettingsMap": {},
     "title": ""
    }
   },
   "outputs": [],
   "source": [
    "storageAccountKey = ''\n",
    "spark.conf.set('fs.azure.account.key.dmodemoaccount123.dfs.core.windows.net',storageAccountKey)"
   ]
  },
  {
   "cell_type": "code",
   "execution_count": 0,
   "metadata": {
    "application/vnd.databricks.v1+cell": {
     "cellMetadata": {
      "byteLimit": 2048000,
      "rowLimit": 10000
     },
     "inputWidgets": {},
     "nuid": "3baffb53-ddb3-498b-a72c-41dc9ad6b20d",
     "showTitle": false,
     "tableResultSettingsMap": {},
     "title": ""
    }
   },
   "outputs": [],
   "source": [
    "import pandas"
   ]
  },
  {
   "cell_type": "code",
   "execution_count": 0,
   "metadata": {
    "application/vnd.databricks.v1+cell": {
     "cellMetadata": {
      "byteLimit": 2048000,
      "rowLimit": 10000
     },
     "inputWidgets": {},
     "nuid": "17804f0e-9a51-4837-9523-d8dbc1a9c035",
     "showTitle": false,
     "tableResultSettingsMap": {},
     "title": ""
    }
   },
   "outputs": [],
   "source": [
    "sourcecsv_filepath = 'abfss://working-labs@dmodemoaccount123.dfs.core.windows.net/bronze_sheriff_try/daily-pricing/csv'\n",
    "targetjson_file = 'abfss://working-labs@dmodemoaccount123.dfs.core.windows.net/bronze_sheriff_try/daily-pricing/json'"
   ]
  },
  {
   "cell_type": "code",
   "execution_count": 0,
   "metadata": {
    "application/vnd.databricks.v1+cell": {
     "cellMetadata": {
      "byteLimit": 2048000,
      "rowLimit": 10000
     },
     "inputWidgets": {},
     "nuid": "b313ed0f-06eb-4529-91af-ffff702e2b75",
     "showTitle": false,
     "tableResultSettingsMap": {},
     "title": ""
    }
   },
   "outputs": [],
   "source": [
    "sourcecsvfiledf = (\n",
    "    spark.read.option(\"header\", \"true\").csv(sourcecsv_filepath)\n",
    ")"
   ]
  },
  {
   "cell_type": "code",
   "execution_count": 0,
   "metadata": {
    "application/vnd.databricks.v1+cell": {
     "cellMetadata": {
      "byteLimit": 2048000,
      "rowLimit": 10000
     },
     "inputWidgets": {},
     "nuid": "d13173d0-1620-41ed-a52f-d66656527cf7",
     "showTitle": false,
     "tableResultSettingsMap": {},
     "title": ""
    }
   },
   "outputs": [
    {
     "output_type": "execute_result",
     "data": {
      "text/plain": [
       "<pyspark.sql.readwriter.DataFrameWriter at 0x7f8054755400>"
      ]
     },
     "execution_count": 5,
     "metadata": {},
     "output_type": "execute_result"
    }
   ],
   "source": [
    "from pyspark.sql.types import *\n",
    "sourceCSVFileSchema=StructType([\n",
    "    StructField(\"DATE_OF_PRICING\", StringType(), True),\n",
    "    StructField(\"ROW_ID\", IntegerType(), True),\n",
    "    StructField(\"STATE_NAME\", StringType(), True),\n",
    "    StructField(\"MARKET_NAME\", StringType(), True) ,\n",
    "    StructField(\"PRODUCTGROUP_NAME\", StringType(), True),\n",
    "    StructField(\"PRODUCT_NAME\", StringType(), True),\n",
    "    StructField(\"VARIETY\", StringType(), True),\n",
    "    StructField(\"ORIGIN\", StringType(), True),\n",
    "    StructField(\"ARRIVAL_IN_TONNES\", DecimalType(10,2),True),\n",
    "    StructField(\"MINIMUM_PRICE\", StringType(),True),\n",
    "    StructField(\"MAXIMUM_PRICE\",StringType(),True),\n",
    "    StructField(\"MODAL_PRICE\", DecimalType(10,2),True)\n",
    "])\n",
    "sourceCSVFileDF=spark.read.schema(sourceCSVFileSchema).csv(sourcecsv_filepath)\n",
    "sourceCSVFileDF.write.mode(\"overwrite\")"
   ]
  },
  {
   "cell_type": "code",
   "execution_count": 0,
   "metadata": {
    "application/vnd.databricks.v1+cell": {
     "cellMetadata": {
      "byteLimit": 2048000,
      "rowLimit": 10000
     },
     "inputWidgets": {},
     "nuid": "48dee3b5-da86-47a6-9529-6cc8ae7aef84",
     "showTitle": false,
     "tableResultSettingsMap": {},
     "title": ""
    }
   },
   "outputs": [],
   "source": [
    "sourceCSVFileDF=(\n",
    "    spark.read.schema(sourceCSVFileSchema).csv(sourcecsv_filepath)\n",
    ")"
   ]
  },
  {
   "cell_type": "code",
   "execution_count": 0,
   "metadata": {
    "application/vnd.databricks.v1+cell": {
     "cellMetadata": {
      "byteLimit": 2048000,
      "rowLimit": 10000
     },
     "inputWidgets": {},
     "nuid": "14acfab1-7cbb-48d3-a32a-2625a9520cbd",
     "showTitle": false,
     "tableResultSettingsMap": {},
     "title": ""
    }
   },
   "outputs": [],
   "source": [
    "\n",
    "(\n",
    "    sourceCSVFileDF.write.mode(\"overwrite\").json(targetjson_file)\n",
    ")"
   ]
  }
 ],
 "metadata": {
  "application/vnd.databricks.v1+notebook": {
   "computePreferences": null,
   "dashboards": [],
   "environmentMetadata": {
    "base_environment": "",
    "environment_version": "2"
   },
   "inputWidgetPreferences": null,
   "language": "python",
   "notebookMetadata": {
    "pythonIndentUnit": 4
   },
   "notebookName": "sheriff-try-2-json-2025-08-01 15:01:46",
   "widgets": {}
  },
  "language_info": {
   "name": "python"
  }
 },
 "nbformat": 4,
 "nbformat_minor": 0
}